{
  "nbformat": 4,
  "nbformat_minor": 0,
  "metadata": {
    "colab": {
      "provenance": []
    },
    "kernelspec": {
      "name": "python3",
      "display_name": "Python 3"
    },
    "language_info": {
      "name": "python"
    }
  },
  "cells": [
    {
      "cell_type": "code",
      "source": [
        "from flask import Flask,render_template,request\n",
        "# Flask-It is our framework which we are going to use to run/serve our application.\n",
        "#request-for accessing file which was uploaded by the user on our application.\n",
        "import os\n",
        "import numpy as np #used for numerical analysis\n",
        "from tensorflow.keras.models import load_model#to load our trained model\n",
        "from tensorflow.keras.preprocessing import image\n",
        "import requests\n"
      ],
      "metadata": {
        "id": "8demDOp6RqCz"
      },
      "execution_count": 2,
      "outputs": []
    }
  ]
}