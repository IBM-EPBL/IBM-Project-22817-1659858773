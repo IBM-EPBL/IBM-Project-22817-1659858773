{
  "cells": [
    {
      "cell_type": "markdown",
      "metadata": {
        "id": "n7g3E1nQiA3A"
      },
      "source": [
        "**Import the library**"
      ]
    },
    {
      "cell_type": "code",
      "execution_count": 2,
      "metadata": {
        "id": "uV01d09BOESF"
      },
      "outputs": [],
      "source": [
        "from keras.preprocessing.image import ImageDataGenerator"
      ]
    },
    {
      "cell_type": "code",
      "execution_count": 1,
      "metadata": {
        "colab": {
          "base_uri": "https://localhost:8080/"
        },
        "id": "ACzhux3ZvmkY",
        "outputId": "ea1f62d2-a23f-4a87-a112-c1e16ae68798"
      },
      "outputs": [
        {
          "output_type": "stream",
          "name": "stdout",
          "text": [
            "Mounted at /content/drive\n"
          ]
        }
      ],
      "source": [
        "from google.colab import drive\n",
        "drive.mount('/content/drive')"
      ]
    },
    {
      "cell_type": "markdown",
      "metadata": {
        "id": "abXSAukdiIZG"
      },
      "source": [
        "**Applying ImageDataGenerator functionality to trainset and testset**"
      ]
    },
    {
      "cell_type": "code",
      "execution_count": 3,
      "metadata": {
        "id": "S6D487XPwMe-"
      },
      "outputs": [],
      "source": [
        "train_datagen = ImageDataGenerator(rescale=1./255,shear_range=0.2,zoom_range=0.2,horizontal_flip=True)\n",
        "test_datagen=ImageDataGenerator(rescale=1./255)"
      ]
    },
    {
      "cell_type": "markdown",
      "metadata": {
        "id": "R7tYHlpjio3F"
      },
      "source": [
        "**Data Agumentation**"
      ]
    },
    {
      "cell_type": "code",
      "execution_count": 4,
      "metadata": {
        "colab": {
          "base_uri": "https://localhost:8080/"
        },
        "id": "zLCkg4M4PEpc",
        "outputId": "79934574-0cf1-455c-de98-7bdcca7d5981"
      },
      "outputs": [
        {
          "output_type": "stream",
          "name": "stdout",
          "text": [
            "Found 2646 images belonging to 5 classes.\n",
            "Found 814 images belonging to 5 classes.\n"
          ]
        }
      ],
      "source": [
        "#performing data agumentation to train data\n",
        "x_train = train_datagen.flow_from_directory(\n",
        "    r'/content/drive/MyDrive/DATASET1/TRAIN_SET',target_size=(64, 64),batch_size=5,color_mode='rgb',class_mode='sparse')\n",
        "#performing data agumentation to test data\n",
        "x_test = test_datagen.flow_from_directory(\n",
        "    r'/content/drive/MyDrive/DATASET1/TEST_SET',\n",
        "    target_size=(64, 64),batch_size=5,color_mode='rgb',class_mode='sparse') "
      ]
    },
    {
      "cell_type": "code",
      "execution_count": 5,
      "metadata": {
        "colab": {
          "base_uri": "https://localhost:8080/"
        },
        "id": "8Xv_8iBo6LHH",
        "outputId": "1cc1dc57-15c9-47ba-92d7-acd53c8b5e05"
      },
      "outputs": [
        {
          "output_type": "stream",
          "name": "stdout",
          "text": [
            "{'APPLES': 0, 'BANANA': 1, 'ORANGE': 2, 'PINEAPPLE': 3, 'WATERMELON': 4}\n"
          ]
        }
      ],
      "source": [
        "print(x_train.class_indices)\n"
      ]
    },
    {
      "cell_type": "code",
      "execution_count": 6,
      "metadata": {
        "colab": {
          "base_uri": "https://localhost:8080/"
        },
        "id": "BcgsOXVCxdVt",
        "outputId": "c768ea3d-8e02-4b06-869e-3ab35ef2de7c"
      },
      "outputs": [
        {
          "output_type": "stream",
          "name": "stdout",
          "text": [
            "{'APPLES': 0, 'BANANA': 1, 'ORANGE': 2, 'PINEAPPLE': 3, 'WATERMELON': 4}\n"
          ]
        }
      ],
      "source": [
        "print(x_test.class_indices)"
      ]
    },
    {
      "cell_type": "code",
      "execution_count": 7,
      "metadata": {
        "colab": {
          "base_uri": "https://localhost:8080/"
        },
        "id": "83SMtbG-xs3K",
        "outputId": "f3364ba8-400e-40fa-b877-e2d470403a60"
      },
      "outputs": [
        {
          "output_type": "execute_result",
          "data": {
            "text/plain": [
              "Counter({0: 606, 1: 445, 2: 479, 3: 621, 4: 495})"
            ]
          },
          "metadata": {},
          "execution_count": 7
        }
      ],
      "source": [
        "from collections import Counter as c\n",
        "c(x_train .labels)"
      ]
    },
    {
      "cell_type": "markdown",
      "metadata": {
        "id": "y9CJEUAHklH6"
      },
      "source": [
        "**Importing The Model Building Libraries**"
      ]
    },
    {
      "cell_type": "code",
      "execution_count": 8,
      "metadata": {
        "id": "6GFIz9HkkgUh"
      },
      "outputs": [],
      "source": [
        "import numpy as np#used for numerical analysis\n",
        "import tensorflow #open source used for both ML and DL for computation\n",
        "from tensorflow.keras.models import Sequential #it is a plain stack of layers\n",
        "from tensorflow.keras import layers #A layer consists of a tensor-in tensor-out computation function\n",
        "#Dense layer is the regular deeply connected neural network layer\n",
        "from tensorflow.keras.layers import Dense,Flatten\n",
        "#Faltten-used fot flattening the input or change the dimension\n",
        "from tensorflow.keras.layers import Conv2D,MaxPooling2D,Dropout #Convolutional layer\n",
        "#MaxPooling2D-for downsampling the image\n",
        "from keras.preprocessing.image import ImageDataGenerator"
      ]
    },
    {
      "cell_type": "markdown",
      "metadata": {
        "id": "QePIIDJelAkQ"
      },
      "source": [
        "**Initializing The Model** "
      ]
    },
    {
      "cell_type": "code",
      "execution_count": 9,
      "metadata": {
        "id": "P-gohPTjkxWa"
      },
      "outputs": [],
      "source": [
        "classifier = Sequential()"
      ]
    },
    {
      "cell_type": "markdown",
      "metadata": {
        "id": "Uq5Tt794l2P_"
      },
      "source": [
        "**Adding CNN Layer**"
      ]
    },
    {
      "cell_type": "code",
      "execution_count": 10,
      "metadata": {
        "id": "n3YlfS4Sl6cA"
      },
      "outputs": [],
      "source": [
        "\n",
        "classifier = Sequential()\n",
        "\n",
        "classifier.add(Conv2D(32, (3, 3), input_shape=(64, 64, 3), activation='relu'))\n",
        "classifier.add(MaxPooling2D(pool_size=(2, 2)))\n",
        "\n",
        "\n",
        "classifier.add(Conv2D(32, (3, 3), activation='relu'))\n",
        "\n",
        "\n",
        "classifier.add(MaxPooling2D(pool_size=(2, 2)))\n",
        "\n",
        "classifier.add(Flatten())\n",
        "\n",
        "classifier.add(Dense(units=128, activation='relu'))\n",
        "classifier.add(Dense(units=5, activation='softmax')) \n",
        "\n"
      ]
    },
    {
      "cell_type": "markdown",
      "metadata": {
        "id": "NnbLb_i6mjIG"
      },
      "source": [
        "**Add Flatten Layer**"
      ]
    },
    {
      "cell_type": "code",
      "execution_count": 11,
      "metadata": {
        "id": "hbSJHLAMmEph"
      },
      "outputs": [],
      "source": [
        "classifier.add(Flatten())"
      ]
    },
    {
      "cell_type": "markdown",
      "metadata": {
        "id": "FDDdRyOwmzFd"
      },
      "source": [
        "**Add Dense Layer**"
      ]
    },
    {
      "cell_type": "code",
      "execution_count": 12,
      "metadata": {
        "id": "1fFRmkDSm17N"
      },
      "outputs": [],
      "source": [
        "classifier.add(Dense(units=128, activation='relu'))\n",
        "classifier.add(Dense(units=5, activation='softmax')) "
      ]
    },
    {
      "cell_type": "markdown",
      "metadata": {
        "id": "686GB5mknBVA"
      },
      "source": [
        "**Configuring the learning process**"
      ]
    },
    {
      "cell_type": "code",
      "execution_count": 13,
      "metadata": {
        "id": "boUWFaYbnAVe"
      },
      "outputs": [],
      "source": [
        "classifier.add(Dense(units=128, activation='relu'))\n",
        "classifier.add(Dense(units=5, activation='softmax'))"
      ]
    },
    {
      "cell_type": "code",
      "execution_count": 14,
      "metadata": {
        "colab": {
          "base_uri": "https://localhost:8080/"
        },
        "id": "yY6gSbavneL9",
        "outputId": "90b29368-08d3-4aa7-d81c-092ae76beeed"
      },
      "outputs": [
        {
          "output_type": "stream",
          "name": "stdout",
          "text": [
            "Model: \"sequential_1\"\n",
            "_________________________________________________________________\n",
            " Layer (type)                Output Shape              Param #   \n",
            "=================================================================\n",
            " conv2d (Conv2D)             (None, 62, 62, 32)        896       \n",
            "                                                                 \n",
            " max_pooling2d (MaxPooling2D  (None, 31, 31, 32)       0         \n",
            " )                                                               \n",
            "                                                                 \n",
            " conv2d_1 (Conv2D)           (None, 29, 29, 32)        9248      \n",
            "                                                                 \n",
            " max_pooling2d_1 (MaxPooling  (None, 14, 14, 32)       0         \n",
            " 2D)                                                             \n",
            "                                                                 \n",
            " flatten (Flatten)           (None, 6272)              0         \n",
            "                                                                 \n",
            " dense (Dense)               (None, 128)               802944    \n",
            "                                                                 \n",
            " dense_1 (Dense)             (None, 5)                 645       \n",
            "                                                                 \n",
            " flatten_1 (Flatten)         (None, 5)                 0         \n",
            "                                                                 \n",
            " dense_2 (Dense)             (None, 128)               768       \n",
            "                                                                 \n",
            " dense_3 (Dense)             (None, 5)                 645       \n",
            "                                                                 \n",
            " dense_4 (Dense)             (None, 128)               768       \n",
            "                                                                 \n",
            " dense_5 (Dense)             (None, 5)                 645       \n",
            "                                                                 \n",
            "=================================================================\n",
            "Total params: 816,559\n",
            "Trainable params: 816,559\n",
            "Non-trainable params: 0\n",
            "_________________________________________________________________\n"
          ]
        }
      ],
      "source": [
        "classifier.summary()"
      ]
    },
    {
      "cell_type": "code",
      "execution_count": 15,
      "metadata": {
        "id": "Fgd5yIrmngWV"
      },
      "outputs": [],
      "source": [
        "classifier.compile(optimizer='adam', loss='sparse_categorical_crossentropy', metrics=['accuracy']) "
      ]
    },
    {
      "cell_type": "markdown",
      "metadata": {
        "id": "VxcTp0WWnt8U"
      },
      "source": [
        "**Train the model**"
      ]
    },
    {
      "cell_type": "code",
      "execution_count": 16,
      "metadata": {
        "colab": {
          "base_uri": "https://localhost:8080/"
        },
        "id": "n5u8dSEGngYN",
        "outputId": "2957934c-7ab0-44f6-dc5f-34d5aa4952d7"
      },
      "outputs": [
        {
          "output_type": "stream",
          "name": "stderr",
          "text": [
            "/usr/local/lib/python3.7/dist-packages/ipykernel_launcher.py:2: UserWarning: `Model.fit_generator` is deprecated and will be removed in a future version. Please use `Model.fit`, which supports generators.\n",
            "  \n"
          ]
        },
        {
          "output_type": "stream",
          "name": "stdout",
          "text": [
            "Epoch 1/20\n",
            "530/530 [==============================] - 544s 1s/step - loss: 1.1523 - accuracy: 0.3983 - val_loss: 1.0435 - val_accuracy: 0.3612\n",
            "Epoch 2/20\n",
            "530/530 [==============================] - 31s 58ms/step - loss: 1.6353 - accuracy: 0.2302 - val_loss: 1.6361 - val_accuracy: 0.3612\n",
            "Epoch 3/20\n",
            "530/530 [==============================] - 29s 54ms/step - loss: 1.6045 - accuracy: 0.2241 - val_loss: 1.6341 - val_accuracy: 0.0000e+00\n",
            "Epoch 4/20\n",
            "530/530 [==============================] - 31s 58ms/step - loss: 1.6045 - accuracy: 0.2290 - val_loss: 1.6118 - val_accuracy: 0.3612\n",
            "Epoch 5/20\n",
            "530/530 [==============================] - 29s 55ms/step - loss: 1.6055 - accuracy: 0.2332 - val_loss: 1.6026 - val_accuracy: 0.3612\n",
            "Epoch 6/20\n",
            "530/530 [==============================] - 31s 58ms/step - loss: 1.6034 - accuracy: 0.2404 - val_loss: 1.6382 - val_accuracy: 0.0000e+00\n",
            "Epoch 7/20\n",
            "530/530 [==============================] - 33s 62ms/step - loss: 1.6035 - accuracy: 0.2419 - val_loss: 1.6171 - val_accuracy: 0.3612\n",
            "Epoch 8/20\n",
            "530/530 [==============================] - 29s 56ms/step - loss: 1.6038 - accuracy: 0.2343 - val_loss: 1.6449 - val_accuracy: 0.0000e+00\n",
            "Epoch 9/20\n",
            "530/530 [==============================] - 29s 55ms/step - loss: 1.6042 - accuracy: 0.2298 - val_loss: 1.6421 - val_accuracy: 0.0000e+00\n",
            "Epoch 10/20\n",
            "530/530 [==============================] - 31s 59ms/step - loss: 1.6042 - accuracy: 0.2313 - val_loss: 1.6289 - val_accuracy: 0.3612\n",
            "Epoch 11/20\n",
            "530/530 [==============================] - 29s 56ms/step - loss: 1.6041 - accuracy: 0.2260 - val_loss: 1.6062 - val_accuracy: 0.3612\n",
            "Epoch 12/20\n",
            "530/530 [==============================] - 31s 59ms/step - loss: 1.6047 - accuracy: 0.2256 - val_loss: 1.6059 - val_accuracy: 0.3612\n",
            "Epoch 13/20\n",
            "530/530 [==============================] - 33s 63ms/step - loss: 1.6024 - accuracy: 0.2313 - val_loss: 1.5884 - val_accuracy: 0.3612\n",
            "Epoch 14/20\n",
            "530/530 [==============================] - 30s 56ms/step - loss: 1.6040 - accuracy: 0.2290 - val_loss: 1.6144 - val_accuracy: 0.3612\n",
            "Epoch 15/20\n",
            "530/530 [==============================] - 31s 58ms/step - loss: 1.6025 - accuracy: 0.2317 - val_loss: 1.6208 - val_accuracy: 0.3612\n",
            "Epoch 16/20\n",
            "530/530 [==============================] - 29s 55ms/step - loss: 1.6030 - accuracy: 0.2328 - val_loss: 1.6371 - val_accuracy: 0.0000e+00\n",
            "Epoch 17/20\n",
            "530/530 [==============================] - 29s 55ms/step - loss: 1.6033 - accuracy: 0.2305 - val_loss: 1.6265 - val_accuracy: 0.3612\n",
            "Epoch 18/20\n",
            "530/530 [==============================] - 31s 59ms/step - loss: 1.6027 - accuracy: 0.2339 - val_loss: 1.5975 - val_accuracy: 0.3612\n",
            "Epoch 19/20\n",
            "530/530 [==============================] - 29s 55ms/step - loss: 1.6027 - accuracy: 0.2324 - val_loss: 1.6311 - val_accuracy: 0.0000e+00\n",
            "Epoch 20/20\n",
            "530/530 [==============================] - 34s 64ms/step - loss: 1.6021 - accuracy: 0.2336 - val_loss: 1.6032 - val_accuracy: 0.3612\n"
          ]
        },
        {
          "output_type": "execute_result",
          "data": {
            "text/plain": [
              "<keras.callbacks.History at 0x7f68f5d37210>"
            ]
          },
          "metadata": {},
          "execution_count": 16
        }
      ],
      "source": [
        "classifier.fit_generator(generator=x_train,steps_per_epoch = len(x_train),\n",
        "                         epochs=20, validation_data=x_test,validation_steps = len(x_test))\n",
        "# No of images in test set"
      ]
    },
    {
      "cell_type": "markdown",
      "metadata": {
        "id": "YT1udayCvg-y"
      },
      "source": [
        "**Save the Model**"
      ]
    },
    {
      "cell_type": "code",
      "execution_count": 17,
      "metadata": {
        "id": "jcxLmXwPvmNS"
      },
      "outputs": [],
      "source": [
        "classifier.save('nutrition.h5')"
      ]
    },
    {
      "cell_type": "markdown",
      "metadata": {
        "id": "QlMi6A7Mvt3x"
      },
      "source": [
        "**Predicition**"
      ]
    },
    {
      "cell_type": "code",
      "execution_count": 18,
      "metadata": {
        "id": "gLQZ2-Axvp4D"
      },
      "outputs": [],
      "source": [
        "from tensorflow.keras.models import load_model\n",
        "from tensorflow.keras.preprocessing import image\n",
        "import numpy as np"
      ]
    },
    {
      "cell_type": "code",
      "execution_count": 20,
      "metadata": {
        "id": "ck-vFXqZwBwy"
      },
      "outputs": [],
      "source": [
        "img = image.load_img(\"/content/drive/MyDrive/DATASET1/TEST_SET/ORANGE/38_100.jpg\",target_size= (64,64))"
      ]
    },
    {
      "cell_type": "code",
      "execution_count": 21,
      "metadata": {
        "id": "kiwDbFuXwHNa"
      },
      "outputs": [],
      "source": [
        "x=image.img_to_array(img)"
      ]
    },
    {
      "cell_type": "code",
      "execution_count": 22,
      "metadata": {
        "colab": {
          "base_uri": "https://localhost:8080/"
        },
        "id": "oDN1JLpnwZqy",
        "outputId": "ddb08184-239b-48e6-c9ba-3b0fbe61903d"
      },
      "outputs": [
        {
          "output_type": "execute_result",
          "data": {
            "text/plain": [
              "array([[[255., 253., 240.],\n",
              "        [255., 252., 254.],\n",
              "        [255., 252., 255.],\n",
              "        ...,\n",
              "        [255., 255., 255.],\n",
              "        [255., 255., 255.],\n",
              "        [255., 255., 255.]],\n",
              "\n",
              "       [[250., 255., 254.],\n",
              "        [253., 253., 255.],\n",
              "        [253., 253., 255.],\n",
              "        ...,\n",
              "        [255., 255., 255.],\n",
              "        [255., 255., 255.],\n",
              "        [255., 255., 255.]],\n",
              "\n",
              "       [[247., 255., 255.],\n",
              "        [251., 254., 255.],\n",
              "        [253., 252., 255.],\n",
              "        ...,\n",
              "        [255., 255., 255.],\n",
              "        [255., 255., 255.],\n",
              "        [255., 255., 255.]],\n",
              "\n",
              "       ...,\n",
              "\n",
              "       [[255., 255., 255.],\n",
              "        [255., 255., 255.],\n",
              "        [255., 255., 255.],\n",
              "        ...,\n",
              "        [255., 255., 255.],\n",
              "        [255., 255., 255.],\n",
              "        [255., 255., 255.]],\n",
              "\n",
              "       [[255., 255., 255.],\n",
              "        [255., 255., 255.],\n",
              "        [255., 255., 255.],\n",
              "        ...,\n",
              "        [255., 255., 255.],\n",
              "        [255., 255., 255.],\n",
              "        [255., 255., 255.]],\n",
              "\n",
              "       [[255., 255., 255.],\n",
              "        [255., 255., 255.],\n",
              "        [255., 255., 255.],\n",
              "        ...,\n",
              "        [255., 255., 255.],\n",
              "        [255., 255., 255.],\n",
              "        [255., 255., 255.]]], dtype=float32)"
            ]
          },
          "metadata": {},
          "execution_count": 22
        }
      ],
      "source": [
        "x"
      ]
    },
    {
      "cell_type": "code",
      "execution_count": 23,
      "metadata": {
        "colab": {
          "base_uri": "https://localhost:8080/"
        },
        "id": "elpCBowqwbeB",
        "outputId": "f663db45-edee-4aa9-fd8b-beeb08a281b1"
      },
      "outputs": [
        {
          "output_type": "execute_result",
          "data": {
            "text/plain": [
              "3"
            ]
          },
          "metadata": {},
          "execution_count": 23
        }
      ],
      "source": [
        "x.ndim"
      ]
    },
    {
      "cell_type": "code",
      "execution_count": 24,
      "metadata": {
        "id": "9KbYyA48wiEy"
      },
      "outputs": [],
      "source": [
        "x=np.expand_dims(x,axis=0)"
      ]
    },
    {
      "cell_type": "code",
      "execution_count": 25,
      "metadata": {
        "colab": {
          "base_uri": "https://localhost:8080/"
        },
        "id": "I6gPiOrMwjkq",
        "outputId": "86e3ed6c-1408-42f5-b666-49ecc13a4b08"
      },
      "outputs": [
        {
          "output_type": "execute_result",
          "data": {
            "text/plain": [
              "4"
            ]
          },
          "metadata": {},
          "execution_count": 25
        }
      ],
      "source": [
        "x.ndim"
      ]
    },
    {
      "cell_type": "code",
      "execution_count": 26,
      "metadata": {
        "colab": {
          "base_uri": "https://localhost:8080/"
        },
        "id": "jwrNkuUSwmwq",
        "outputId": "2e615711-9c87-44a6-80d7-7fc3fd970f27"
      },
      "outputs": [
        {
          "output_type": "stream",
          "name": "stdout",
          "text": [
            "1/1 [==============================] - 0s 142ms/step\n"
          ]
        }
      ],
      "source": [
        "pred = classifier.predict(x)"
      ]
    },
    {
      "cell_type": "code",
      "execution_count": 27,
      "metadata": {
        "colab": {
          "base_uri": "https://localhost:8080/"
        },
        "id": "G2R7NXkzwwNB",
        "outputId": "9e483bb3-ea1a-4ee4-8f09-1f6fa6b83f17"
      },
      "outputs": [
        {
          "output_type": "execute_result",
          "data": {
            "text/plain": [
              "array([[0.21279842, 0.17572571, 0.17553818, 0.24457753, 0.19136012]],\n",
              "      dtype=float32)"
            ]
          },
          "metadata": {},
          "execution_count": 27
        }
      ],
      "source": [
        "pred"
      ]
    },
    {
      "cell_type": "code",
      "execution_count": 28,
      "metadata": {
        "colab": {
          "base_uri": "https://localhost:8080/",
          "height": 36
        },
        "id": "OAXqzNLFw1pn",
        "outputId": "be20764e-2a89-4408-f45e-37988ace7bbe"
      },
      "outputs": [
        {
          "output_type": "execute_result",
          "data": {
            "text/plain": [
              "'PINEAPPLE'"
            ],
            "application/vnd.google.colaboratory.intrinsic+json": {
              "type": "string"
            }
          },
          "metadata": {},
          "execution_count": 28
        }
      ],
      "source": [
        "labels=['APPLES', 'BANANA', 'ORANGE','PINEAPPLE','WATERMELON']\n",
        "labels[np.argmax(pred)]"
      ]
    }
  ],
  "metadata": {
    "colab": {
      "provenance": []
    },
    "kernelspec": {
      "display_name": "Python 3",
      "name": "python3"
    },
    "language_info": {
      "name": "python"
    }
  },
  "nbformat": 4,
  "nbformat_minor": 0
}