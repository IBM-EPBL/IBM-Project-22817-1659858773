{
  "cells": [
    {
      "cell_type": "markdown",
      "metadata": {
        "id": "sLPVDKgGavvR"
      },
      "source": [
        "\n"
      ]
    },
    {
      "cell_type": "markdown",
      "metadata": {
        "id": "aX_yNUr-Tbr1"
      },
      "source": [
        "# Model Building"
      ]
    },
    {
      "cell_type": "markdown",
      "metadata": {
        "id": "lVZwyE5MTo5E"
      },
      "source": [
        "1. Importing The Model Building Libraries"
      ]
    },
    {
      "cell_type": "code",
      "execution_count": 16,
      "metadata": {
        "id": "tEtJC1nHTxCg"
      },
      "outputs": [],
      "source": [
        "import numpy as np\n",
        "import tensorflow as tf\n",
        "from tensorflow.keras.models import Sequential \n",
        "from tensorflow.keras import layers\n",
        "from tensorflow.keras.layers import Dense,Flatten\n",
        "from tensorflow.keras.layers import Conv2D,MaxPooling2D,Dropout "
      ]
    },
    {
      "cell_type": "markdown",
      "metadata": {
        "id": "I9NGWvH7UYzv"
      },
      "source": [
        "2. Initializing The Model"
      ]
    },
    {
      "cell_type": "code",
      "execution_count": 17,
      "metadata": {
        "id": "Ds4P_-dKUumX"
      },
      "outputs": [],
      "source": [
        "model = Sequential()"
      ]
    },
    {
      "cell_type": "markdown",
      "metadata": {
        "id": "AtPUSEPbVGc9"
      },
      "source": [
        "3. Adding CNN Layers"
      ]
    },
    {
      "cell_type": "code",
      "execution_count": 18,
      "metadata": {
        "id": "-1OH2yZvVLQ5"
      },
      "outputs": [],
      "source": [
        "# Initializing the CNN\n",
        "classifier = Sequential()\n",
        "\n",
        "# First convolution layer and pooling\n",
        "classifier.add(Conv2D(32, (3, 3), input_shape=(64, 64, 3), activation='relu'))\n",
        "classifier.add(MaxPooling2D(pool_size=(2, 2)))\n",
        "\n",
        "# Second convolution layer and pooling\n",
        "classifier.add(Conv2D(32, (3, 3), activation='relu'))\n",
        "\n",
        "# input_shape is going to be the pooled feature maps from the previous convolution layer\n",
        "classifier.add(MaxPooling2D(pool_size=(2, 2)))\n",
        "\n",
        "# Flattening the layers\n",
        "classifier.add(Flatten())"
      ]
    },
    {
      "cell_type": "markdown",
      "metadata": {
        "id": "qsKF5w2GWEqP"
      },
      "source": [
        "4. Adding Dense Layers"
      ]
    },
    {
      "cell_type": "code",
      "execution_count": 19,
      "metadata": {
        "id": "S0k10QvlW_XO"
      },
      "outputs": [],
      "source": [
        "classifier.add(Dense(units=128, activation='relu'))\n",
        "classifier.add(Dense(units=5, activation='softmax'))"
      ]
    },
    {
      "cell_type": "code",
      "execution_count": 20,
      "metadata": {
        "colab": {
          "base_uri": "https://localhost:8080/",
          "height": 0
        },
        "id": "5dSfOw44XAYJ",
        "outputId": "30d93472-c6dc-403a-f540-d30b1358d0a1"
      },
      "outputs": [
        {
          "name": "stdout",
          "output_type": "stream",
          "text": [
            "Model: \"sequential_1\"\n",
            "_________________________________________________________________\n",
            " Layer (type)                Output Shape              Param #   \n",
            "=================================================================\n",
            " conv2d (Conv2D)             (None, 62, 62, 32)        896       \n",
            "                                                                 \n",
            " max_pooling2d (MaxPooling2D  (None, 31, 31, 32)       0         \n",
            " )                                                               \n",
            "                                                                 \n",
            " conv2d_1 (Conv2D)           (None, 29, 29, 32)        9248      \n",
            "                                                                 \n",
            " max_pooling2d_1 (MaxPooling  (None, 14, 14, 32)       0         \n",
            " 2D)                                                             \n",
            "                                                                 \n",
            " flatten (Flatten)           (None, 6272)              0         \n",
            "                                                                 \n",
            " dense (Dense)               (None, 128)               802944    \n",
            "                                                                 \n",
            " dense_1 (Dense)             (None, 5)                 645       \n",
            "                                                                 \n",
            "=================================================================\n",
            "Total params: 813,733\n",
            "Trainable params: 813,733\n",
            "Non-trainable params: 0\n",
            "_________________________________________________________________\n"
          ]
        }
      ],
      "source": [
        "#summary of our model\n",
        "classifier.summary()"
      ]
    },
    {
      "cell_type": "markdown",
      "metadata": {
        "id": "a7-D6eqLXVvb"
      },
      "source": [
        "5. Configure The Learning Process"
      ]
    },
    {
      "cell_type": "code",
      "execution_count": 21,
      "metadata": {
        "id": "OaW4i5-DXbq2"
      },
      "outputs": [],
      "source": [
        "# Compiling the CNN\n",
        "# categorical_crossentropy for more than 2\n",
        "classifier.compile(optimizer='adam', loss='sparse_categorical_crossentropy', metrics=['accuracy']) "
      ]
    },
    {
      "cell_type": "markdown",
      "metadata": {
        "id": "NNbxOTffpOT5"
      },
      "source": [
        "6. Train The Model"
      ]
    },
    {
      "cell_type": "code",
      "execution_count": 22,
      "metadata": {
        "colab": {
          "base_uri": "https://localhost:8080/",
          "height": 0
        },
        "id": "8S_wmvKzpk1c",
        "outputId": "919c7ede-8229-48a2-d447-20a49b29dbba"
      },
      "outputs": [
        {
          "name": "stdout",
          "output_type": "stream",
          "text": [
            "Epoch 1/20\n"
          ]
        },
        {
          "name": "stderr",
          "output_type": "stream",
          "text": [
            "/usr/local/lib/python3.7/dist-packages/ipykernel_launcher.py:2: UserWarning: `Model.fit_generator` is deprecated and will be removed in a future version. Please use `Model.fit`, which supports generators.\n",
            "  \n"
          ]
        },
        {
          "name": "stdout",
          "output_type": "stream",
          "text": [
            "824/824 [==============================] - 21s 16ms/step - loss: 0.6172 - accuracy: 0.7584 - val_loss: 0.4876 - val_accuracy: 0.8310\n",
            "Epoch 2/20\n",
            "824/824 [==============================] - 13s 15ms/step - loss: 0.4115 - accuracy: 0.8422 - val_loss: 0.5115 - val_accuracy: 0.7998\n",
            "Epoch 3/20\n",
            "824/824 [==============================] - 13s 16ms/step - loss: 0.3766 - accuracy: 0.8601 - val_loss: 0.4235 - val_accuracy: 0.8493\n",
            "Epoch 4/20\n",
            "824/824 [==============================] - 13s 16ms/step - loss: 0.3484 - accuracy: 0.8701 - val_loss: 0.4452 - val_accuracy: 0.8310\n",
            "Epoch 5/20\n",
            "824/824 [==============================] - 13s 16ms/step - loss: 0.3243 - accuracy: 0.8759 - val_loss: 0.4430 - val_accuracy: 0.8375\n",
            "Epoch 6/20\n",
            "824/824 [==============================] - 13s 16ms/step - loss: 0.3240 - accuracy: 0.8783 - val_loss: 0.4549 - val_accuracy: 0.8213\n",
            "Epoch 7/20\n",
            "824/824 [==============================] - 13s 16ms/step - loss: 0.2887 - accuracy: 0.8929 - val_loss: 0.4149 - val_accuracy: 0.8428\n",
            "Epoch 8/20\n",
            "824/824 [==============================] - 13s 16ms/step - loss: 0.2728 - accuracy: 0.8983 - val_loss: 0.4038 - val_accuracy: 0.8601\n",
            "Epoch 9/20\n",
            "824/824 [==============================] - 13s 16ms/step - loss: 0.2717 - accuracy: 0.8949 - val_loss: 0.4305 - val_accuracy: 0.8450\n",
            "Epoch 10/20\n",
            "824/824 [==============================] - 14s 17ms/step - loss: 0.2365 - accuracy: 0.9150 - val_loss: 0.3886 - val_accuracy: 0.8730\n",
            "Epoch 11/20\n",
            "824/824 [==============================] - 13s 15ms/step - loss: 0.2301 - accuracy: 0.9087 - val_loss: 0.3590 - val_accuracy: 0.8665\n",
            "Epoch 12/20\n",
            "824/824 [==============================] - 13s 15ms/step - loss: 0.2083 - accuracy: 0.9179 - val_loss: 0.4406 - val_accuracy: 0.8547\n",
            "Epoch 13/20\n",
            "824/824 [==============================] - 13s 15ms/step - loss: 0.2049 - accuracy: 0.9199 - val_loss: 0.3759 - val_accuracy: 0.8708\n",
            "Epoch 14/20\n",
            "824/824 [==============================] - 12s 15ms/step - loss: 0.1930 - accuracy: 0.9337 - val_loss: 0.4108 - val_accuracy: 0.8611\n",
            "Epoch 15/20\n",
            "824/824 [==============================] - 13s 15ms/step - loss: 0.1807 - accuracy: 0.9291 - val_loss: 0.4008 - val_accuracy: 0.8633\n",
            "Epoch 16/20\n",
            "824/824 [==============================] - 13s 15ms/step - loss: 0.1712 - accuracy: 0.9301 - val_loss: 0.5149 - val_accuracy: 0.8837\n",
            "Epoch 17/20\n",
            "824/824 [==============================] - 13s 15ms/step - loss: 0.1599 - accuracy: 0.9383 - val_loss: 0.5203 - val_accuracy: 0.8192\n",
            "Epoch 18/20\n",
            "824/824 [==============================] - 13s 15ms/step - loss: 0.1619 - accuracy: 0.9439 - val_loss: 0.3615 - val_accuracy: 0.8859\n",
            "Epoch 19/20\n",
            "824/824 [==============================] - 13s 15ms/step - loss: 0.1505 - accuracy: 0.9429 - val_loss: 0.3464 - val_accuracy: 0.8999\n",
            "Epoch 20/20\n",
            "824/824 [==============================] - 12s 15ms/step - loss: 0.1211 - accuracy: 0.9534 - val_loss: 0.5068 - val_accuracy: 0.8827\n"
          ]
        },
        {
          "data": {
            "text/plain": [
              "<keras.callbacks.History at 0x7fd655833d90>"
            ]
          },
          "execution_count": 22,
          "metadata": {},
          "output_type": "execute_result"
        }
      ],
      "source": [
        "#Fitting the model\n",
        "classifier.fit_generator(generator=x_train,steps_per_epoch = len(x_train),epochs=20, validation_data=x_test,validation_steps = len(x_test))"
      ]
    },
    {
      "cell_type": "markdown",
      "metadata": {
        "id": "vuF7tEabqDWP"
      },
      "source": [
        "7. Saving The Model"
      ]
    },
    {
      "cell_type": "code",
      "execution_count": 23,
      "metadata": {
        "id": "lOsJVlViqKGN"
      },
      "outputs": [],
      "source": [
        "classifier.save('nutrition.h5')"
      ]
    },
    {
      "cell_type": "markdown",
      "metadata": {
        "id": "ofuoBxVHqYkY"
      },
      "source": [
        "8. Testing The Model"
      ]
    },
    {
      "cell_type": "code",
      "execution_count": 43,
      "metadata": {
        "id": "uXhCmwdJqby9"
      },
      "outputs": [],
      "source": [
        "#Predict the results\n",
        "from tensorflow.keras.models import load_model\n",
        "from keras.preprocessing import image\n",
        "model = load_model(\"nutrition.h5\")"
      ]
    },
    {
      "cell_type": "code",
      "execution_count": 58,
      "metadata": {
        "colab": {
          "base_uri": "https://localhost:8080/",
          "height": 0
        },
        "id": "lSQ6tnsR5pIc",
        "outputId": "f57d93d2-c659-4c6d-8375-57a883128495"
      },
      "outputs": [
        {
          "name": "stdout",
          "output_type": "stream",
          "text": [
            "1/1 [==============================] - 0s 18ms/step\n"
          ]
        },
        {
          "data": {
            "text/plain": [
              "array([0])"
            ]
          },
          "execution_count": 58,
          "metadata": {},
          "output_type": "execute_result"
        }
      ],
      "source": [
        "from tensorflow.keras.utils import img_to_array\n",
        "#loading of the image\n",
        "img = load_img(r'/content/Sample_Images/Test_Image1.jpg',grayscale=False,target_size= (64,64))\n",
        "#image to array\n",
        "x = img_to_array(img)\n",
        "#changing the shape\n",
        "x = np.expand_dims(x,axis = 0)\n",
        "predict_x=model.predict(x) \n",
        "classes_x=np.argmax(predict_x,axis=-1)\n",
        "classes_x"
      ]
    },
    {
      "cell_type": "code",
      "execution_count": 59,
      "metadata": {
        "colab": {
          "base_uri": "https://localhost:8080/",
          "height": 36
        },
        "id": "lKP8KSCpoIwn",
        "outputId": "7b028b56-4dfb-44d8-fd5e-fdb7edff004d"
      },
      "outputs": [
        {
          "data": {
            "application/vnd.google.colaboratory.intrinsic+json": {
              "type": "string"
            },
            "text/plain": [
              "'APPLES'"
            ]
          },
          "execution_count": 59,
          "metadata": {},
          "output_type": "execute_result"
        }
      ],
      "source": [
        "index=['APPLES', 'BANANA', 'ORANGE','PINEAPPLE','WATERMELON']\n",
        "result=str(index[classes_x[0]])\n",
        "result"
      ]
    }
  ],
  "metadata": {
    "accelerator": "GPU",
    "colab": {
      "collapsed_sections": [],
      "provenance": []
    },
    "gpuClass": "standard",
    "kernelspec": {
      "display_name": "Python 3",
      "name": "python3"
    },
    "language_info": {
      "name": "python"
    }
  },
  "nbformat": 4,
  "nbformat_minor": 0
}
