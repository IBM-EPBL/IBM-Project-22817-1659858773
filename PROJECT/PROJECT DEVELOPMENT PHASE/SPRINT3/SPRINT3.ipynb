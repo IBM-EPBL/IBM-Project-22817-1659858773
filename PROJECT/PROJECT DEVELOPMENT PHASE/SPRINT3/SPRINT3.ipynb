{
  "cells": [
    {
      "cell_type": "code",
      "execution_count": null,
      "metadata": {
        "id": "41Zr1NBJdpOl"
      },
      "outputs": [],
      "source": [
        "from flask import Flask,render_template,request"
      ]
    },
    {
      "cell_type": "code",
      "execution_count": null,
      "metadata": {
        "id": "zQf2ZvMHdsou"
      },
      "outputs": [],
      "source": [
        "import os\n",
        "import numpy as np\n",
        "from tensorflow.keras.models import load_model\n",
        "from tensorflow.keras.preprocessing import image\n",
        "import requests"
      ]
    },
    {
      "cell_type": "code",
      "execution_count": null,
      "metadata": {
        "id": "gh3QBysCdzH8"
      },
      "outputs": [],
      "source": [
        "app= Flask(__name__,template_folder=\"templates\")"
      ]
    },
    {
      "cell_type": "code",
      "execution_count": null,
      "metadata": {
        "id": "gBOUfZPyd5RW"
      },
      "outputs": [],
      "source": [
        "from tensorflow import keras\n",
        "model = keras.models.load_model('/content/drive/MyDrive/Colab Notebooks/Dataset-20221108T081455Z-001/Dataset/nutrition.h5')"
      ]
    },
    {
      "cell_type": "code",
      "execution_count": null,
      "metadata": {
        "colab": {
          "base_uri": "https://localhost:8080/"
        },
        "id": "B346R2Tsd5NN",
        "outputId": "670cbe20-7c0d-4e29-df2c-2b0f880f4442"
      },
      "outputs": [
        {
          "name": "stdout",
          "output_type": "stream",
          "text": [
            "Loaded model from disk\n"
          ]
        }
      ],
      "source": [
        "print(\"Loaded model from disk\")"
      ]
    },
    {
      "cell_type": "code",
      "execution_count": null,
      "metadata": {
        "id": "SP9MQZiSi0Ue"
      },
      "outputs": [],
      "source": [
        "@app.route('/')\n",
        "def home():\n",
        "    return render_template('homepage.html')"
      ]
    },
    {
      "cell_type": "code",
      "execution_count": null,
      "metadata": {
        "id": "PnpHFjc2i8Ed"
      },
      "outputs": [],
      "source": [
        "@app.route('/image1',methods=['GET','POST'])\n",
        "def image1():\n",
        "    return render_template(\"image.html\")"
      ]
    },
    {
      "cell_type": "code",
      "execution_count": null,
      "metadata": {
        "id": "sS6AcBe1jA0P"
      },
      "outputs": [],
      "source": [
        "@app.route('/predict',methods=['GET','POST'])\n",
        "def launch():\n",
        "    if request.method=='POST':\n",
        "        f=request.files['file']\n",
        "        basepath=os.path.dirname('__file__')\n",
        "        filepath=os.path.join(basepath,\"uploads\",f.filename)\n",
        "        f.save(filepath)\n",
        "        \n",
        "        img=image.load_img(filepath,target_size=(64,64))\n",
        "        x=image.img_to_array(img)\n",
        "        x=np.expand_dims(x,axis=0)\n",
        "        \n",
        "        pred=np.argmax(model.predict(x), axis=1)\n",
        "        print(\"prediction\",pred)\n",
        "        index=['APPLES','BANANA','ORANGE','PINEAPPLE','WATERMELON']\n",
        "        result=str(index[pred[0]])\n",
        "        x=result\n",
        "        print(x)\n",
        "        result=nutrition(result)\n",
        "        print(result)\n",
        "        return render_template(\"0.html\",showcase=(result),showcase1=(x))"
      ]
    },
    {
      "cell_type": "code",
      "execution_count": null,
      "metadata": {
        "id": "9-k4_B9_jHmx"
      },
      "outputs": [],
      "source": [
        "def nutrition(index):\n",
        "    url = \"https://us-south.ml.cloud.ibm.com\"\n",
        "    querystring = {\"query\":index}\n",
        "    headers = {\n",
        "        'X-RapidAPI-Key': 'eniJdp_L3hKoa2E1QN5KP8mmE7q0n0JS0pIjwA1XwVc-',\n",
        "    'X-RapidAPI-Host': 'us-south.ml.cloud.ibm.com'\n",
        "    }\n",
        "    response = requests.request(\"GET\",url,headers=headers, params=querystring)\n",
        "    print(response.text)\n",
        "    return response.json()['items']"
      ]
    },
    {
      "cell_type": "code",
      "execution_count": null,
      "metadata": {
        "id": "Pccqd0gYCQhf"
      },
      "outputs": [],
      "source": [
        "if __name__ == \"__main__\":\n",
        "    app.run(debug=False)"
      ]
    }
  ],
  "metadata": {
    "colab": {
      "collapsed_sections": [],
      "provenance": []
    },
    "kernelspec": {
      "display_name": "Python 3.10.8 64-bit (microsoft store)",
      "language": "python",
      "name": "python3"
    },
    "language_info": {
      "codemirror_mode": {
        "name": "ipython",
        "version": 3
      },
      "file_extension": ".py",
      "mimetype": "text/x-python",
      "name": "python",
      "nbconvert_exporter": "python",
      "pygments_lexer": "ipython3",
      "version": "3.10.8"
    },
    "vscode": {
      "interpreter": {
        "hash": "369a85caaf995721481bf9ca8f6a76eb90f674ee3ae8912ed68134738e2b65ca"
      }
    }
  },
  "nbformat": 4,
  "nbformat_minor": 0
}
